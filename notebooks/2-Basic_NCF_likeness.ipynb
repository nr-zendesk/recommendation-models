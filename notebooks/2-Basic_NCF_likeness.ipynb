{
 "cells": [
  {
   "cell_type": "code",
   "execution_count": 1,
   "id": "b91e8dc4-2b69-4dbf-bc91-d530ae34cb46",
   "metadata": {},
   "outputs": [],
   "source": [
    "import os\n",
    "import sys\n",
    "import math\n",
    "import torch\n",
    "\n",
    "import numpy as np\n",
    "import pandas as pd\n",
    "import torch.nn as nn\n",
    "\n",
    "from tqdm import tqdm\n",
    "from torch.utils.data import Dataset, DataLoader, random_split\n",
    "from sklearn.model_selection import train_test_split\n",
    "from sklearn.metrics import roc_auc_score, mean_squared_error, f1_score\n",
    "from sklearn.preprocessing import LabelEncoder"
   ]
  },
  {
   "cell_type": "markdown",
   "id": "1259b19f-57ba-4d26-a1bc-0cc9029902b3",
   "metadata": {},
   "source": [
    "# Summary\n",
    "\n",
    "The most basic Neural Matrix Factorization model possible based on Figure 3 from the original [NCF paper](https://arxiv.org/pdf/1708.05031).\n",
    "\n",
    "This model is trained on the Movielense dataset where the objective is to predict whether a user like a movie or not (ratings above 3 mean they liked the movie).\n",
    "\n",
    "This ultra-simplistic version uses only the user and movie IDs to create learnable embeddings, no additional user or item features are used."
   ]
  },
  {
   "cell_type": "code",
   "execution_count": 47,
   "id": "a0164411-73a5-4718-8e4c-c63462b5749c",
   "metadata": {},
   "outputs": [],
   "source": [
    "\"\"\"\n",
    "Define the general parameters that will be used.\n",
    "Seeds are set for reproducibility.\n",
    "Device is set to select if we will run the model on a GPU or on CPU.\n",
    "All other parameters are related to the model itseld, it's optimizer and training schema.\n",
    "\"\"\"\n",
    "\n",
    "\n",
    "np.random.seed(42)\n",
    "torch.manual_seed(42)\n",
    "\n",
    "device = 'cpu'\n",
    "\n",
    "learning_rate = 0.0001\n",
    "weight_decay = 1e-6\n",
    "batch_size = 1024\n",
    "epochs = 50\n",
    "hidden_layers = [32, 32]\n",
    "embedding_size = 32"
   ]
  },
  {
   "cell_type": "code",
   "execution_count": 48,
   "id": "54b562e7-7278-405f-9a99-d40618b91484",
   "metadata": {},
   "outputs": [],
   "source": [
    "\"\"\"\n",
    "Select which dataset to use.\n",
    "The files in each dataset are stored differently mostly due to data size but also as its structure evolved over the years.\n",
    "\"\"\"\n",
    "\n",
    "dataset = 'ml-100k'\n",
    "\n",
    "if dataset == 'ml-100k':\n",
    "    data = pd.read_csv(f'../data/{dataset}/u.data', sep=\"\\t\", header=None)\n",
    "    data.columns = ['user id', 'movie id', 'rating', 'timestamp']\n",
    "elif dataset == 'ml-20m':\n",
    "    data = pd.read_csv(f'../data/{dataset}/ratings.csv',on_bad_lines='skip')\n",
    "else:\n",
    "    print(f'{dataset} does nto exist or was incorrectly written')"
   ]
  },
  {
   "cell_type": "code",
   "execution_count": 49,
   "id": "ce23f09b-bbdb-42e0-9027-ab2aee65852b",
   "metadata": {},
   "outputs": [
    {
     "data": {
      "text/html": [
       "<div>\n",
       "<style scoped>\n",
       "    .dataframe tbody tr th:only-of-type {\n",
       "        vertical-align: middle;\n",
       "    }\n",
       "\n",
       "    .dataframe tbody tr th {\n",
       "        vertical-align: top;\n",
       "    }\n",
       "\n",
       "    .dataframe thead th {\n",
       "        text-align: right;\n",
       "    }\n",
       "</style>\n",
       "<table border=\"1\" class=\"dataframe\">\n",
       "  <thead>\n",
       "    <tr style=\"text-align: right;\">\n",
       "      <th></th>\n",
       "      <th>user id</th>\n",
       "      <th>movie id</th>\n",
       "      <th>rating</th>\n",
       "      <th>timestamp</th>\n",
       "    </tr>\n",
       "  </thead>\n",
       "  <tbody>\n",
       "    <tr>\n",
       "      <th>0</th>\n",
       "      <td>196</td>\n",
       "      <td>242</td>\n",
       "      <td>3</td>\n",
       "      <td>881250949</td>\n",
       "    </tr>\n",
       "    <tr>\n",
       "      <th>1</th>\n",
       "      <td>186</td>\n",
       "      <td>302</td>\n",
       "      <td>3</td>\n",
       "      <td>891717742</td>\n",
       "    </tr>\n",
       "    <tr>\n",
       "      <th>2</th>\n",
       "      <td>22</td>\n",
       "      <td>377</td>\n",
       "      <td>1</td>\n",
       "      <td>878887116</td>\n",
       "    </tr>\n",
       "    <tr>\n",
       "      <th>3</th>\n",
       "      <td>244</td>\n",
       "      <td>51</td>\n",
       "      <td>2</td>\n",
       "      <td>880606923</td>\n",
       "    </tr>\n",
       "    <tr>\n",
       "      <th>4</th>\n",
       "      <td>166</td>\n",
       "      <td>346</td>\n",
       "      <td>1</td>\n",
       "      <td>886397596</td>\n",
       "    </tr>\n",
       "    <tr>\n",
       "      <th>...</th>\n",
       "      <td>...</td>\n",
       "      <td>...</td>\n",
       "      <td>...</td>\n",
       "      <td>...</td>\n",
       "    </tr>\n",
       "    <tr>\n",
       "      <th>99995</th>\n",
       "      <td>880</td>\n",
       "      <td>476</td>\n",
       "      <td>3</td>\n",
       "      <td>880175444</td>\n",
       "    </tr>\n",
       "    <tr>\n",
       "      <th>99996</th>\n",
       "      <td>716</td>\n",
       "      <td>204</td>\n",
       "      <td>5</td>\n",
       "      <td>879795543</td>\n",
       "    </tr>\n",
       "    <tr>\n",
       "      <th>99997</th>\n",
       "      <td>276</td>\n",
       "      <td>1090</td>\n",
       "      <td>1</td>\n",
       "      <td>874795795</td>\n",
       "    </tr>\n",
       "    <tr>\n",
       "      <th>99998</th>\n",
       "      <td>13</td>\n",
       "      <td>225</td>\n",
       "      <td>2</td>\n",
       "      <td>882399156</td>\n",
       "    </tr>\n",
       "    <tr>\n",
       "      <th>99999</th>\n",
       "      <td>12</td>\n",
       "      <td>203</td>\n",
       "      <td>3</td>\n",
       "      <td>879959583</td>\n",
       "    </tr>\n",
       "  </tbody>\n",
       "</table>\n",
       "<p>100000 rows × 4 columns</p>\n",
       "</div>"
      ],
      "text/plain": [
       "       user id  movie id  rating  timestamp\n",
       "0          196       242       3  881250949\n",
       "1          186       302       3  891717742\n",
       "2           22       377       1  878887116\n",
       "3          244        51       2  880606923\n",
       "4          166       346       1  886397596\n",
       "...        ...       ...     ...        ...\n",
       "99995      880       476       3  880175444\n",
       "99996      716       204       5  879795543\n",
       "99997      276      1090       1  874795795\n",
       "99998       13       225       2  882399156\n",
       "99999       12       203       3  879959583\n",
       "\n",
       "[100000 rows x 4 columns]"
      ]
     },
     "metadata": {},
     "output_type": "display_data"
    }
   ],
   "source": [
    "display(data)"
   ]
  },
  {
   "cell_type": "code",
   "execution_count": 50,
   "id": "90a348e4-6f4a-4584-a520-af0dba3dc34f",
   "metadata": {},
   "outputs": [],
   "source": [
    "\"\"\"\n",
    "The embedding layers expect indices to start at 0.\n",
    "Given both user and movie IDs start at 1, we apply label encoder to fix it. \n",
    "Subtracting 1 would also solve the problem however that would be problem specific and not a general solution.\n",
    "\"\"\"\n",
    "\n",
    "user_enc = LabelEncoder()\n",
    "item_enc = LabelEncoder()\n",
    "data['user_id_enc'] = user_enc.fit_transform(data['user id'])\n",
    "data['movie_id_enc'] = item_enc.fit_transform(data['movie id'])\n",
    "\n",
    "data['liked'] = (data['rating'] >= 3.0).astype(int)"
   ]
  },
  {
   "cell_type": "code",
   "execution_count": 51,
   "id": "e12c4706-d867-4aa3-a9b1-be691a5e1caf",
   "metadata": {},
   "outputs": [
    {
     "data": {
      "text/plain": [
       "liked\n",
       "1    82520\n",
       "0    17480\n",
       "Name: count, dtype: int64"
      ]
     },
     "execution_count": 51,
     "metadata": {},
     "output_type": "execute_result"
    }
   ],
   "source": [
    "data.liked.value_counts()"
   ]
  },
  {
   "cell_type": "code",
   "execution_count": 52,
   "id": "06a9553f-e27f-4500-aead-6b936fd72e08",
   "metadata": {},
   "outputs": [],
   "source": [
    "class MLDataset(Dataset):\n",
    "    \"\"\"\n",
    "    A PyTorch Dataset class for loading user-item interaction data for the NCF model.\n",
    "\n",
    "    This class is designed to handle datasets containing user-item pairs and their associated ratings.\n",
    "    It converts the input data into a format suitable for PyTorch's data loading utilities.\n",
    "\n",
    "    Attributes:\n",
    "    ----------\n",
    "    user_item_pairs : np.ndarray\n",
    "        A numpy array containing user-item pairs, where each pair consists of encoded user IDs and movie IDs.\n",
    "    \n",
    "    ratings : np.ndarray\n",
    "        A numpy array containing the normalized ratings (scaled between 0 and 1) corresponding to each user-item pair.\n",
    "    \n",
    "    pair_max_ids : np.ndarray\n",
    "        A numpy array containing the maximum user and movie IDs in the dataset, used for indexing purposes.\n",
    "\n",
    "    Methods:\n",
    "    -------\n",
    "    __getitem__(index):\n",
    "        Retrieves the user ID, movie ID, and corresponding rating for a specified index.\n",
    "    \n",
    "    __len__():\n",
    "        Returns the total number of ratings in the dataset.\n",
    "\n",
    "    Parameters:\n",
    "    ----------\n",
    "    data : pd.DataFrame\n",
    "        A pandas DataFrame containing the dataset with at least the following columns 'user_id_enc', 'movie_id_enc', and 'rating'.\n",
    "        - 'user_id_enc': Encoded user IDs.\n",
    "        - 'movie_id_enc': Encoded movie IDs.\n",
    "        - 'rating': Ratings given by users to the movies, expected to be in the range [0, 5].\n",
    "\n",
    "    Example:\n",
    "    --------\n",
    "    >>> dataset = MLDataset(data)\n",
    "    >>> user_id, movie_id, rating = dataset[0]\n",
    "    >>> dataset_length = len(dataset)\n",
    "    \"\"\"\n",
    "    \n",
    "    def __init__(self, data):\n",
    "        self.user_item_pairs = data[['user_id_enc', 'movie_id_enc']].to_numpy().astype(np.int32)\n",
    "        self.ratings = data[['liked']].to_numpy().astype(np.float32)\n",
    "        self.pair_max_ids = np.max(self.user_item_pairs, axis=0)\n",
    "\n",
    "    def __getitem__(self, index):\n",
    "        return self.user_item_pairs[index][0], self.user_item_pairs[index][1], self.ratings[index]\n",
    "\n",
    "    def __len__(self):\n",
    "        return self.ratings.shape[0]"
   ]
  },
  {
   "cell_type": "code",
   "execution_count": 53,
   "id": "df926d2c-2795-4709-9037-6a80d14524b9",
   "metadata": {},
   "outputs": [],
   "source": [
    "\"\"\"\n",
    "Create the train, validation and test set partitions.\n",
    "Pytorch's random_split works similarly to scikit train_test_split, but allows for 2 additional important things:\n",
    " - Can partition instanciated pytorch Datasets.\n",
    " - Can split 3 ways, instead of only 2.\n",
    "\"\"\"\n",
    "\n",
    "\n",
    "dataset = MLDataset(data)\n",
    "\n",
    "train_length = int(len(dataset) * 0.7)\n",
    "valid_length = int(len(dataset) * 0.2)\n",
    "test_length = len(dataset) - train_length - valid_length\n",
    "\n",
    "train_dataset, valid_dataset, test_dataset = random_split(dataset, (train_length, valid_length, test_length))\n",
    "\n",
    "train_data_loader = DataLoader(train_dataset, batch_size=batch_size, num_workers=7)\n",
    "valid_data_loader = DataLoader(valid_dataset, batch_size=batch_size, num_workers=7)\n",
    "test_data_loader = DataLoader(test_dataset, batch_size=1, num_workers=1)"
   ]
  },
  {
   "cell_type": "code",
   "execution_count": 54,
   "id": "788800fc-b558-4c4e-8e6d-cf43cc204a12",
   "metadata": {},
   "outputs": [],
   "source": [
    "class NCF(nn.Module):\n",
    "    \"\"\"\n",
    "    Neural Collaborative Filtering (NCF) model.\n",
    "\n",
    "    This class implements a neural network model for collaborative filtering, combining user and item embeddings \n",
    "    with a multi-layer perceptron (MLP) and a Generalized Matrix Factorization (GMF) to predict user-item interactions.\n",
    "    The model uses embeddings to capture the latent factors of users and items, and then applies both a nonlinear transformation\n",
    "    through the MLP, and a linear transformation through the GMF.\n",
    "\n",
    "    Attributes:\n",
    "    ----------\n",
    "    user_embedding : nn.Embedding\n",
    "        An embedding layer for user IDs, mapping each user to a dense vector representation of specified size.\n",
    "    \n",
    "    item_embedding : nn.Embedding\n",
    "        An embedding layer for item IDs, mapping each item to a dense vector representation of specified size.\n",
    "    \n",
    "    mlp : nn.ModuleList\n",
    "        A list of sequential layers forming the multi-layer perceptron, which processes the concatenated embeddings \n",
    "        to learn non-linear interactions between users and items.\n",
    "    \n",
    "    output : nn.Linear\n",
    "        A linear layer that produces the final prediction score for user-item interactions.\n",
    "\n",
    "    Parameters:\n",
    "    ----------\n",
    "    num_users : int\n",
    "        The total number of unique users in the dataset.\n",
    "    \n",
    "    num_items : int\n",
    "        The total number of unique items in the dataset.\n",
    "    \n",
    "    embedding_size : int, optional\n",
    "        The size of the user and item embeddings (default is 32).\n",
    "    \n",
    "    hidden_layers : list of int, optional\n",
    "        A list specifying the number of neurons in each hidden layer of the MLP (default is [32, 32]).\n",
    "\n",
    "    Methods:\n",
    "    -------\n",
    "    forward(user_input, item_input):\n",
    "        Defines the forward pass of the model, computing the prediction for the given user and item inputs.\n",
    "\n",
    "    Example:\n",
    "    --------\n",
    "    >>> model = NCF(num_users=1000, num_items=500, embedding_size=32, hidden_layers=[64, 32])\n",
    "    >>> user_input = torch.tensor([0, 1, 2])\n",
    "    >>> item_input = torch.tensor([5, 6, 7])\n",
    "    >>> predictions = model(user_input, item_input)\n",
    "    >>> print(predictions.shape)  # Output: torch.Size([3, 1])\n",
    "    \"\"\"\n",
    "    def __init__(self, num_users, num_items, embedding_size=32, hidden_layers=[32,32]):\n",
    "        super(NCF, self).__init__()\n",
    "        self.user_embedding = nn.Embedding(num_users, embedding_size)\n",
    "        self.item_embedding = nn.Embedding(num_items, embedding_size)\n",
    "\n",
    "        input_dim = 2 * embedding_size\n",
    "        self.mlp = nn.ModuleList()\n",
    "        for hidden_dim in hidden_layers:\n",
    "            self.mlp.append(\n",
    "                nn.Sequential(\n",
    "                    nn.Linear(input_dim, hidden_dim),\n",
    "                    nn.BatchNorm1d(hidden_dim),\n",
    "                    nn.ReLU(),\n",
    "                    nn.Dropout(p=0.2)\n",
    "                )\n",
    "            )\n",
    "            input_dim = hidden_dim\n",
    "\n",
    "        self.output = nn.Linear(2 * embedding_size, 1)\n",
    "        \n",
    "    def forward(self, user_input, item_input):\n",
    "        user_embedded = self.user_embedding(user_input)\n",
    "        item_embedded = self.item_embedding(item_input)\n",
    "        gmf = user_embedded * item_embedded\n",
    "        x = torch.cat([user_embedded, item_embedded], dim=-1)\n",
    "        for mlp_layer in self.mlp:\n",
    "            x = mlp_layer(x)\n",
    "        x = torch.cat([gmf, x], dim=-1)\n",
    "        prediction = torch.sigmoid(self.output(x))\n",
    "        return prediction"
   ]
  },
  {
   "cell_type": "code",
   "execution_count": 55,
   "id": "c8ae282c-1286-4e76-8303-dad82a0007f0",
   "metadata": {},
   "outputs": [],
   "source": [
    "def train(model, optimizer, data_loader, criterion, device, log_interval=10):\n",
    "    \"\"\"\n",
    "    Train the given model using the provided data loader and optimization parameters.\n",
    "\n",
    "    This function performs one epoch of training for the specified model, iterating over the data loader to \n",
    "    retrieve user-item interactions and their corresponding ratings. It computes the loss using the specified \n",
    "    criterion, performs backpropagation, and updates the model parameters using the optimizer.\n",
    "\n",
    "    Parameters:\n",
    "    ----------\n",
    "    model : nn.Module\n",
    "        The neural network model to be trained.\n",
    "\n",
    "    optimizer : torch.optim.Optimizer\n",
    "        The optimizer used.\n",
    "\n",
    "    data_loader : DataLoader\n",
    "        A PyTorch DataLoader that provides batches of user-item interactions and ratings for training.\n",
    "\n",
    "    criterion : callable\n",
    "        A loss function.\n",
    "\n",
    "    device : torch.device\n",
    "        The device on which the model and data should be processed.\n",
    "\n",
    "    log_interval : int, optional\n",
    "        The number of steps after which to log the average loss.\n",
    "\n",
    "    Returns:\n",
    "    -------\n",
    "    float\n",
    "        The average training loss over the epoch.\n",
    "\n",
    "    Example:\n",
    "    --------\n",
    "    >>> avg_loss = train(model, optimizer, train_loader, criterion, device)\n",
    "    >>> print(f\"Average Training Loss: {avg_loss:.4f}\")\n",
    "    \"\"\"\n",
    "    model.train()\n",
    "    total_loss = 0\n",
    "    av_loss = []\n",
    "    train_pbar = tqdm(data_loader, smoothing=0, mininterval=1.0)\n",
    "    for i, (user, item, ratings) in enumerate(train_pbar):\n",
    "        user, item, ratings = user.to(device), item.to(device), ratings.to(device)\n",
    "        y = model(user, item)\n",
    "        loss = criterion(y, ratings.float())\n",
    "        model.zero_grad()\n",
    "        loss.backward()\n",
    "        optimizer.step()\n",
    "        total_loss += loss.item()\n",
    "        if (i + 1) % log_interval == 0:\n",
    "            loss = total_loss / log_interval\n",
    "            av_loss.append(loss)\n",
    "            train_pbar.set_postfix(loss=loss)\n",
    "            total_loss = 0\n",
    "    return np.mean(av_loss) "
   ]
  },
  {
   "cell_type": "code",
   "execution_count": 56,
   "id": "106bec22-19d8-4223-86d3-3fc07f6a71a0",
   "metadata": {},
   "outputs": [],
   "source": [
    "def test(model, data_loader, device):\n",
    "    \"\"\"\n",
    "    Evaluate the performance of the given model.\n",
    "\n",
    "    This function sets the model to evaluation mode and computes the mean squared error over the provided dataloader.\n",
    "\n",
    "    Parameters:\n",
    "    ----------\n",
    "    model : nn.Module\n",
    "        The neural network model to be evaluated.\n",
    "\n",
    "    data_loader : DataLoader\n",
    "        A PyTorch DataLoader.\n",
    "\n",
    "    device : torch.device\n",
    "        The device (CPU or GPU) on which the model and data should be processed.\n",
    "\n",
    "    Returns:\n",
    "    -------\n",
    "    float\n",
    "        The mean squared error (MSE) between the predicted ratings and the actual ratings, scaled by a factor of 5.\n",
    "\n",
    "    Example:\n",
    "    --------\n",
    "    >>> mse = test(model, test_loader, device)\n",
    "    >>> print(f\"Mean Squared Error: {mse:.4f}\")\n",
    "    \"\"\"\n",
    "    model.eval()\n",
    "    targets, predicts = list(), list()\n",
    "    with torch.no_grad():\n",
    "        for user, item, ratings in tqdm(data_loader, smoothing=0, mininterval=1.0):\n",
    "            user, item, ratings = user.to(device), item.to(device), ratings.to(device)\n",
    "            y = model(user,item)\n",
    "            predictions = (y >= 0.5)\n",
    "            targets.extend(ratings.tolist())\n",
    "            predicts.extend(predictions.tolist())\n",
    "    return f1_score(targets, predicts, average='micro')"
   ]
  },
  {
   "cell_type": "code",
   "execution_count": 57,
   "id": "11cef4ec-b660-4eb3-a158-d69304d73da4",
   "metadata": {},
   "outputs": [],
   "source": [
    "\"\"\"\n",
    "Here we instantiate the model, as well as it's optimizer and loss function.\n",
    "\"\"\"\n",
    "\n",
    "model = NCF(dataset.pair_max_ids[0]+1, dataset.pair_max_ids[1]+1, embedding_size, hidden_layers).to(device)\n",
    "\n",
    "criterion = nn.BCELoss()\n",
    "optimizer = torch.optim.Adam(model.parameters(), lr=learning_rate, weight_decay=weight_decay)"
   ]
  },
  {
   "cell_type": "code",
   "execution_count": 58,
   "id": "90cd58bc-00c5-485f-ae9c-aa66765a49bd",
   "metadata": {},
   "outputs": [
    {
     "data": {
      "text/plain": [
       "69"
      ]
     },
     "execution_count": 58,
     "metadata": {},
     "output_type": "execute_result"
    }
   ],
   "source": [
    "# Helper to calculate the number of training steps, usefull for smaller datasets like ml-100k\n",
    "\n",
    "n_steps = math.ceil(train_length / batch_size)\n",
    "n_steps"
   ]
  },
  {
   "cell_type": "code",
   "execution_count": 59,
   "id": "e9ea6ec6-5955-4389-a793-fc6a239c5f2f",
   "metadata": {},
   "outputs": [
    {
     "name": "stderr",
     "output_type": "stream",
     "text": [
      "100%|███████████████████████████████| 69/69 [00:00<00:00, 81.55it/s, loss=0.738]\n",
      "100%|███████████████████████████████████████████| 69/69 [00:01<00:00, 62.05it/s]\n",
      "100%|███████████████████████████████████████████| 20/20 [00:00<00:00, 42.31it/s]\n"
     ]
    },
    {
     "name": "stdout",
     "output_type": "stream",
     "text": [
      "epoch: 1 train: f1: 0.48484285714285713\n",
      "epoch: 1 validation: f1: 0.48605\n"
     ]
    },
    {
     "name": "stderr",
     "output_type": "stream",
     "text": [
      "100%|███████████████████████████████| 69/69 [00:00<00:00, 84.43it/s, loss=0.705]\n",
      "100%|███████████████████████████████████████████| 69/69 [00:01<00:00, 60.41it/s]\n",
      "100%|███████████████████████████████████████████| 20/20 [00:00<00:00, 42.59it/s]\n"
     ]
    },
    {
     "name": "stdout",
     "output_type": "stream",
     "text": [
      "epoch: 2 train: f1: 0.5387571428571428\n",
      "epoch: 2 validation: f1: 0.53935\n"
     ]
    },
    {
     "name": "stderr",
     "output_type": "stream",
     "text": [
      "100%|███████████████████████████████| 69/69 [00:00<00:00, 83.06it/s, loss=0.672]\n",
      "100%|███████████████████████████████████████████| 69/69 [00:01<00:00, 61.03it/s]\n",
      "100%|███████████████████████████████████████████| 20/20 [00:00<00:00, 42.05it/s]\n"
     ]
    },
    {
     "name": "stdout",
     "output_type": "stream",
     "text": [
      "epoch: 3 train: f1: 0.5985857142857143\n",
      "epoch: 3 validation: f1: 0.59675\n"
     ]
    },
    {
     "name": "stderr",
     "output_type": "stream",
     "text": [
      "100%|███████████████████████████████| 69/69 [00:00<00:00, 80.81it/s, loss=0.643]\n",
      "100%|███████████████████████████████████████████| 69/69 [00:01<00:00, 61.80it/s]\n",
      "100%|███████████████████████████████████████████| 20/20 [00:00<00:00, 42.15it/s]\n"
     ]
    },
    {
     "name": "stdout",
     "output_type": "stream",
     "text": [
      "epoch: 4 train: f1: 0.6565714285714286\n",
      "epoch: 4 validation: f1: 0.65295\n"
     ]
    },
    {
     "name": "stderr",
     "output_type": "stream",
     "text": [
      "100%|███████████████████████████████| 69/69 [00:00<00:00, 83.95it/s, loss=0.617]\n",
      "100%|███████████████████████████████████████████| 69/69 [00:01<00:00, 60.65it/s]\n",
      "100%|███████████████████████████████████████████| 20/20 [00:00<00:00, 41.31it/s]\n"
     ]
    },
    {
     "name": "stdout",
     "output_type": "stream",
     "text": [
      "epoch: 5 train: f1: 0.7086857142857143\n",
      "epoch: 5 validation: f1: 0.70165\n"
     ]
    },
    {
     "name": "stderr",
     "output_type": "stream",
     "text": [
      "100%|███████████████████████████████| 69/69 [00:00<00:00, 81.43it/s, loss=0.596]\n",
      "100%|███████████████████████████████████████████| 69/69 [00:00<00:00, 82.03it/s]\n",
      "100%|███████████████████████████████████████████| 20/20 [00:00<00:00, 26.87it/s]\n"
     ]
    },
    {
     "name": "stdout",
     "output_type": "stream",
     "text": [
      "epoch: 6 train: f1: 0.7498571428571429\n",
      "epoch: 6 validation: f1: 0.74485\n"
     ]
    },
    {
     "name": "stderr",
     "output_type": "stream",
     "text": [
      "100%|███████████████████████████████| 69/69 [00:00<00:00, 81.69it/s, loss=0.578]\n",
      "100%|███████████████████████████████████████████| 69/69 [00:00<00:00, 79.47it/s]\n",
      "100%|███████████████████████████████████████████| 20/20 [00:00<00:00, 41.82it/s]\n"
     ]
    },
    {
     "name": "stdout",
     "output_type": "stream",
     "text": [
      "epoch: 7 train: f1: 0.7819428571428572\n",
      "epoch: 7 validation: f1: 0.77565\n"
     ]
    },
    {
     "name": "stderr",
     "output_type": "stream",
     "text": [
      "100%|████████████████████████████████| 69/69 [00:00<00:00, 83.65it/s, loss=0.56]\n",
      "100%|███████████████████████████████████████████| 69/69 [00:01<00:00, 61.39it/s]\n",
      "100%|███████████████████████████████████████████| 20/20 [00:00<00:00, 42.27it/s]\n"
     ]
    },
    {
     "name": "stdout",
     "output_type": "stream",
     "text": [
      "epoch: 8 train: f1: 0.8031428571428572\n",
      "epoch: 8 validation: f1: 0.79525\n"
     ]
    },
    {
     "name": "stderr",
     "output_type": "stream",
     "text": [
      "100%|███████████████████████████████| 69/69 [00:00<00:00, 80.75it/s, loss=0.544]\n",
      "100%|███████████████████████████████████████████| 69/69 [00:01<00:00, 60.12it/s]\n",
      "100%|███████████████████████████████████████████| 20/20 [00:00<00:00, 42.21it/s]\n"
     ]
    },
    {
     "name": "stdout",
     "output_type": "stream",
     "text": [
      "epoch: 9 train: f1: 0.8154428571428571\n",
      "epoch: 9 validation: f1: 0.80905\n"
     ]
    },
    {
     "name": "stderr",
     "output_type": "stream",
     "text": [
      "100%|███████████████████████████████| 69/69 [00:00<00:00, 82.29it/s, loss=0.532]\n",
      "100%|███████████████████████████████████████████| 69/69 [00:01<00:00, 61.10it/s]\n",
      "100%|███████████████████████████████████████████| 20/20 [00:00<00:00, 42.17it/s]\n"
     ]
    },
    {
     "name": "stdout",
     "output_type": "stream",
     "text": [
      "epoch: 10 train: f1: 0.8214857142857143\n",
      "epoch: 10 validation: f1: 0.8153\n"
     ]
    },
    {
     "name": "stderr",
     "output_type": "stream",
     "text": [
      "100%|███████████████████████████████| 69/69 [00:00<00:00, 84.17it/s, loss=0.519]\n",
      "100%|███████████████████████████████████████████| 69/69 [00:01<00:00, 61.27it/s]\n",
      "100%|███████████████████████████████████████████| 20/20 [00:00<00:00, 41.90it/s]\n"
     ]
    },
    {
     "name": "stdout",
     "output_type": "stream",
     "text": [
      "epoch: 11 train: f1: 0.8245571428571429\n",
      "epoch: 11 validation: f1: 0.81905\n"
     ]
    },
    {
     "name": "stderr",
     "output_type": "stream",
     "text": [
      "100%|███████████████████████████████| 69/69 [00:00<00:00, 83.22it/s, loss=0.512]\n",
      "100%|███████████████████████████████████████████| 69/69 [00:00<00:00, 79.47it/s]\n",
      "100%|███████████████████████████████████████████| 20/20 [00:00<00:00, 27.95it/s]\n"
     ]
    },
    {
     "name": "stdout",
     "output_type": "stream",
     "text": [
      "epoch: 12 train: f1: 0.826\n",
      "epoch: 12 validation: f1: 0.82105\n"
     ]
    },
    {
     "name": "stderr",
     "output_type": "stream",
     "text": [
      "100%|███████████████████████████████| 69/69 [00:00<00:00, 81.02it/s, loss=0.502]\n",
      "100%|███████████████████████████████████████████| 69/69 [00:00<00:00, 80.06it/s]\n",
      "100%|███████████████████████████████████████████| 20/20 [00:00<00:00, 27.37it/s]\n"
     ]
    },
    {
     "name": "stdout",
     "output_type": "stream",
     "text": [
      "epoch: 13 train: f1: 0.8264571428571429\n",
      "epoch: 13 validation: f1: 0.8222\n"
     ]
    },
    {
     "name": "stderr",
     "output_type": "stream",
     "text": [
      "100%|███████████████████████████████| 69/69 [00:00<00:00, 81.75it/s, loss=0.494]\n",
      "100%|███████████████████████████████████████████| 69/69 [00:00<00:00, 79.74it/s]\n",
      "100%|███████████████████████████████████████████| 20/20 [00:00<00:00, 41.54it/s]\n"
     ]
    },
    {
     "name": "stdout",
     "output_type": "stream",
     "text": [
      "epoch: 14 train: f1: 0.8266428571428571\n",
      "epoch: 14 validation: f1: 0.82285\n"
     ]
    },
    {
     "name": "stderr",
     "output_type": "stream",
     "text": [
      "100%|███████████████████████████████| 69/69 [00:00<00:00, 84.58it/s, loss=0.489]\n",
      "100%|███████████████████████████████████████████| 69/69 [00:01<00:00, 61.31it/s]\n",
      "100%|███████████████████████████████████████████| 20/20 [00:00<00:00, 42.09it/s]\n"
     ]
    },
    {
     "name": "stdout",
     "output_type": "stream",
     "text": [
      "epoch: 15 train: f1: 0.8267428571428571\n",
      "epoch: 15 validation: f1: 0.82305\n"
     ]
    },
    {
     "name": "stderr",
     "output_type": "stream",
     "text": [
      "100%|███████████████████████████████| 69/69 [00:00<00:00, 84.36it/s, loss=0.485]\n",
      "100%|███████████████████████████████████████████| 69/69 [00:01<00:00, 62.34it/s]\n",
      "100%|███████████████████████████████████████████| 20/20 [00:00<00:00, 42.30it/s]\n"
     ]
    },
    {
     "name": "stdout",
     "output_type": "stream",
     "text": [
      "epoch: 16 train: f1: 0.8267285714285715\n",
      "epoch: 16 validation: f1: 0.8232\n"
     ]
    },
    {
     "name": "stderr",
     "output_type": "stream",
     "text": [
      "100%|███████████████████████████████| 69/69 [00:00<00:00, 79.49it/s, loss=0.483]\n",
      "100%|███████████████████████████████████████████| 69/69 [00:01<00:00, 60.51it/s]\n",
      "100%|███████████████████████████████████████████| 20/20 [00:00<00:00, 40.82it/s]\n"
     ]
    },
    {
     "name": "stdout",
     "output_type": "stream",
     "text": [
      "epoch: 17 train: f1: 0.8266857142857142\n",
      "epoch: 17 validation: f1: 0.82325\n"
     ]
    },
    {
     "name": "stderr",
     "output_type": "stream",
     "text": [
      "100%|███████████████████████████████| 69/69 [00:00<00:00, 82.67it/s, loss=0.477]\n",
      "100%|███████████████████████████████████████████| 69/69 [00:01<00:00, 61.46it/s]\n",
      "100%|███████████████████████████████████████████| 20/20 [00:00<00:00, 42.07it/s]\n"
     ]
    },
    {
     "name": "stdout",
     "output_type": "stream",
     "text": [
      "epoch: 18 train: f1: 0.8266285714285714\n",
      "epoch: 18 validation: f1: 0.8232\n"
     ]
    },
    {
     "name": "stderr",
     "output_type": "stream",
     "text": [
      "100%|███████████████████████████████| 69/69 [00:00<00:00, 84.09it/s, loss=0.473]\n",
      "100%|███████████████████████████████████████████| 69/69 [00:01<00:00, 61.54it/s]\n",
      "100%|███████████████████████████████████████████| 20/20 [00:00<00:00, 41.94it/s]\n"
     ]
    },
    {
     "name": "stdout",
     "output_type": "stream",
     "text": [
      "epoch: 19 train: f1: 0.8266\n",
      "epoch: 19 validation: f1: 0.8232\n"
     ]
    },
    {
     "name": "stderr",
     "output_type": "stream",
     "text": [
      "100%|███████████████████████████████| 69/69 [00:00<00:00, 82.94it/s, loss=0.471]\n",
      "100%|███████████████████████████████████████████| 69/69 [00:00<00:00, 80.13it/s]\n",
      "100%|███████████████████████████████████████████| 20/20 [00:00<00:00, 27.54it/s]\n"
     ]
    },
    {
     "name": "stdout",
     "output_type": "stream",
     "text": [
      "epoch: 20 train: f1: 0.8265857142857143\n",
      "epoch: 20 validation: f1: 0.82315\n"
     ]
    },
    {
     "name": "stderr",
     "output_type": "stream",
     "text": [
      "100%|███████████████████████████████| 69/69 [00:00<00:00, 80.60it/s, loss=0.469]\n",
      "100%|███████████████████████████████████████████| 69/69 [00:00<00:00, 80.40it/s]\n",
      "100%|███████████████████████████████████████████| 20/20 [00:00<00:00, 42.99it/s]\n"
     ]
    },
    {
     "name": "stdout",
     "output_type": "stream",
     "text": [
      "epoch: 21 train: f1: 0.8266\n",
      "epoch: 21 validation: f1: 0.82315\n"
     ]
    },
    {
     "name": "stderr",
     "output_type": "stream",
     "text": [
      "100%|███████████████████████████████| 69/69 [00:00<00:00, 82.19it/s, loss=0.469]\n",
      "100%|███████████████████████████████████████████| 69/69 [00:01<00:00, 62.41it/s]\n",
      "100%|███████████████████████████████████████████| 20/20 [00:00<00:00, 42.13it/s]\n"
     ]
    },
    {
     "name": "stdout",
     "output_type": "stream",
     "text": [
      "epoch: 22 train: f1: 0.8265857142857143\n",
      "epoch: 22 validation: f1: 0.82315\n"
     ]
    },
    {
     "name": "stderr",
     "output_type": "stream",
     "text": [
      "100%|███████████████████████████████| 69/69 [00:00<00:00, 86.33it/s, loss=0.465]\n",
      "100%|███████████████████████████████████████████| 69/69 [00:01<00:00, 61.95it/s]\n",
      "100%|███████████████████████████████████████████| 20/20 [00:00<00:00, 41.72it/s]\n"
     ]
    },
    {
     "name": "stdout",
     "output_type": "stream",
     "text": [
      "epoch: 23 train: f1: 0.8265857142857143\n",
      "epoch: 23 validation: f1: 0.82315\n"
     ]
    },
    {
     "name": "stderr",
     "output_type": "stream",
     "text": [
      "100%|███████████████████████████████| 69/69 [00:00<00:00, 87.04it/s, loss=0.465]\n",
      "100%|███████████████████████████████████████████| 69/69 [00:01<00:00, 62.13it/s]\n",
      "100%|███████████████████████████████████████████| 20/20 [00:00<00:00, 42.29it/s]\n"
     ]
    },
    {
     "name": "stdout",
     "output_type": "stream",
     "text": [
      "epoch: 24 train: f1: 0.8266\n",
      "epoch: 24 validation: f1: 0.82315\n"
     ]
    },
    {
     "name": "stderr",
     "output_type": "stream",
     "text": [
      "100%|███████████████████████████████| 69/69 [00:00<00:00, 86.41it/s, loss=0.462]\n",
      "100%|███████████████████████████████████████████| 69/69 [00:01<00:00, 60.94it/s]\n",
      "100%|███████████████████████████████████████████| 20/20 [00:00<00:00, 42.48it/s]\n"
     ]
    },
    {
     "name": "stdout",
     "output_type": "stream",
     "text": [
      "epoch: 25 train: f1: 0.8266\n",
      "epoch: 25 validation: f1: 0.82315\n"
     ]
    },
    {
     "name": "stderr",
     "output_type": "stream",
     "text": [
      "100%|████████████████████████████████| 69/69 [00:00<00:00, 81.34it/s, loss=0.46]\n",
      "100%|███████████████████████████████████████████| 69/69 [00:01<00:00, 61.60it/s]\n",
      "100%|███████████████████████████████████████████| 20/20 [00:00<00:00, 43.02it/s]\n"
     ]
    },
    {
     "name": "stdout",
     "output_type": "stream",
     "text": [
      "epoch: 26 train: f1: 0.8266\n",
      "epoch: 26 validation: f1: 0.82315\n"
     ]
    },
    {
     "name": "stderr",
     "output_type": "stream",
     "text": [
      "100%|████████████████████████████████| 69/69 [00:00<00:00, 83.91it/s, loss=0.46]\n",
      "100%|███████████████████████████████████████████| 69/69 [00:00<00:00, 80.05it/s]\n",
      "100%|███████████████████████████████████████████| 20/20 [00:00<00:00, 27.66it/s]\n"
     ]
    },
    {
     "name": "stdout",
     "output_type": "stream",
     "text": [
      "epoch: 27 train: f1: 0.8266\n",
      "epoch: 27 validation: f1: 0.82315\n"
     ]
    },
    {
     "name": "stderr",
     "output_type": "stream",
     "text": [
      "100%|████████████████████████████████| 69/69 [00:00<00:00, 83.89it/s, loss=0.46]\n",
      "100%|███████████████████████████████████████████| 69/69 [00:00<00:00, 80.84it/s]\n",
      "100%|███████████████████████████████████████████| 20/20 [00:00<00:00, 27.44it/s]\n"
     ]
    },
    {
     "name": "stdout",
     "output_type": "stream",
     "text": [
      "epoch: 28 train: f1: 0.8266\n",
      "epoch: 28 validation: f1: 0.82315\n"
     ]
    },
    {
     "name": "stderr",
     "output_type": "stream",
     "text": [
      "100%|███████████████████████████████| 69/69 [00:00<00:00, 82.52it/s, loss=0.459]\n",
      "100%|███████████████████████████████████████████| 69/69 [00:00<00:00, 79.46it/s]\n",
      "100%|███████████████████████████████████████████| 20/20 [00:00<00:00, 42.09it/s]\n"
     ]
    },
    {
     "name": "stdout",
     "output_type": "stream",
     "text": [
      "epoch: 29 train: f1: 0.8266142857142857\n",
      "epoch: 29 validation: f1: 0.82315\n"
     ]
    },
    {
     "name": "stderr",
     "output_type": "stream",
     "text": [
      "100%|███████████████████████████████| 69/69 [00:00<00:00, 82.52it/s, loss=0.458]\n",
      "100%|███████████████████████████████████████████| 69/69 [00:01<00:00, 62.82it/s]\n",
      "100%|███████████████████████████████████████████| 20/20 [00:00<00:00, 42.37it/s]\n"
     ]
    },
    {
     "name": "stdout",
     "output_type": "stream",
     "text": [
      "epoch: 30 train: f1: 0.8266285714285714\n",
      "epoch: 30 validation: f1: 0.82315\n"
     ]
    },
    {
     "name": "stderr",
     "output_type": "stream",
     "text": [
      "100%|███████████████████████████████| 69/69 [00:00<00:00, 82.24it/s, loss=0.459]\n",
      "100%|███████████████████████████████████████████| 69/69 [00:01<00:00, 62.96it/s]\n",
      "100%|███████████████████████████████████████████| 20/20 [00:00<00:00, 42.17it/s]\n"
     ]
    },
    {
     "name": "stdout",
     "output_type": "stream",
     "text": [
      "epoch: 31 train: f1: 0.8266571428571429\n",
      "epoch: 31 validation: f1: 0.82315\n"
     ]
    },
    {
     "name": "stderr",
     "output_type": "stream",
     "text": [
      "100%|███████████████████████████████| 69/69 [00:00<00:00, 83.14it/s, loss=0.456]\n",
      "100%|███████████████████████████████████████████| 69/69 [00:01<00:00, 60.81it/s]\n",
      "100%|███████████████████████████████████████████| 20/20 [00:00<00:00, 41.65it/s]\n"
     ]
    },
    {
     "name": "stdout",
     "output_type": "stream",
     "text": [
      "epoch: 32 train: f1: 0.8266714285714286\n",
      "epoch: 32 validation: f1: 0.82315\n"
     ]
    },
    {
     "name": "stderr",
     "output_type": "stream",
     "text": [
      "100%|███████████████████████████████| 69/69 [00:00<00:00, 86.12it/s, loss=0.455]\n",
      "100%|███████████████████████████████████████████| 69/69 [00:01<00:00, 61.18it/s]\n",
      "100%|███████████████████████████████████████████| 20/20 [00:00<00:00, 42.18it/s]\n"
     ]
    },
    {
     "name": "stdout",
     "output_type": "stream",
     "text": [
      "epoch: 33 train: f1: 0.8266714285714286\n",
      "epoch: 33 validation: f1: 0.82315\n"
     ]
    },
    {
     "name": "stderr",
     "output_type": "stream",
     "text": [
      "100%|███████████████████████████████| 69/69 [00:00<00:00, 81.77it/s, loss=0.454]\n",
      "100%|███████████████████████████████████████████| 69/69 [00:01<00:00, 60.59it/s]\n",
      "100%|███████████████████████████████████████████| 20/20 [00:00<00:00, 42.98it/s]\n"
     ]
    },
    {
     "name": "stdout",
     "output_type": "stream",
     "text": [
      "epoch: 34 train: f1: 0.8266857142857142\n",
      "epoch: 34 validation: f1: 0.82315\n"
     ]
    },
    {
     "name": "stderr",
     "output_type": "stream",
     "text": [
      "100%|███████████████████████████████| 69/69 [00:00<00:00, 80.16it/s, loss=0.457]\n",
      "100%|███████████████████████████████████████████| 69/69 [00:01<00:00, 60.38it/s]\n",
      "100%|███████████████████████████████████████████| 20/20 [00:00<00:00, 42.53it/s]\n"
     ]
    },
    {
     "name": "stdout",
     "output_type": "stream",
     "text": [
      "epoch: 35 train: f1: 0.8267714285714286\n",
      "epoch: 35 validation: f1: 0.8232\n"
     ]
    },
    {
     "name": "stderr",
     "output_type": "stream",
     "text": [
      "100%|███████████████████████████████| 69/69 [00:00<00:00, 84.57it/s, loss=0.453]\n",
      "100%|███████████████████████████████████████████| 69/69 [00:00<00:00, 80.12it/s]\n",
      "100%|███████████████████████████████████████████| 20/20 [00:00<00:00, 42.59it/s]\n"
     ]
    },
    {
     "name": "stdout",
     "output_type": "stream",
     "text": [
      "epoch: 36 train: f1: 0.8267857142857142\n",
      "epoch: 36 validation: f1: 0.82325\n"
     ]
    },
    {
     "name": "stderr",
     "output_type": "stream",
     "text": [
      "100%|███████████████████████████████| 69/69 [00:00<00:00, 82.26it/s, loss=0.454]\n",
      "100%|███████████████████████████████████████████| 69/69 [00:01<00:00, 61.85it/s]\n",
      "100%|███████████████████████████████████████████| 20/20 [00:00<00:00, 41.79it/s]\n"
     ]
    },
    {
     "name": "stdout",
     "output_type": "stream",
     "text": [
      "epoch: 37 train: f1: 0.8268142857142857\n",
      "epoch: 37 validation: f1: 0.82325\n"
     ]
    },
    {
     "name": "stderr",
     "output_type": "stream",
     "text": [
      "100%|███████████████████████████████| 69/69 [00:00<00:00, 81.65it/s, loss=0.453]\n",
      "100%|███████████████████████████████████████████| 69/69 [00:01<00:00, 63.22it/s]\n",
      "100%|███████████████████████████████████████████| 20/20 [00:00<00:00, 41.67it/s]\n"
     ]
    },
    {
     "name": "stdout",
     "output_type": "stream",
     "text": [
      "epoch: 38 train: f1: 0.8268714285714286\n",
      "epoch: 38 validation: f1: 0.82325\n"
     ]
    },
    {
     "name": "stderr",
     "output_type": "stream",
     "text": [
      "100%|████████████████████████████████| 69/69 [00:00<00:00, 81.83it/s, loss=0.45]\n",
      "100%|███████████████████████████████████████████| 69/69 [00:01<00:00, 61.33it/s]\n",
      "100%|███████████████████████████████████████████| 20/20 [00:00<00:00, 42.51it/s]\n"
     ]
    },
    {
     "name": "stdout",
     "output_type": "stream",
     "text": [
      "epoch: 39 train: f1: 0.8269\n",
      "epoch: 39 validation: f1: 0.8233\n"
     ]
    },
    {
     "name": "stderr",
     "output_type": "stream",
     "text": [
      "100%|███████████████████████████████| 69/69 [00:00<00:00, 82.92it/s, loss=0.451]\n",
      "100%|███████████████████████████████████████████| 69/69 [00:01<00:00, 60.92it/s]\n",
      "100%|███████████████████████████████████████████| 20/20 [00:00<00:00, 42.47it/s]\n"
     ]
    },
    {
     "name": "stdout",
     "output_type": "stream",
     "text": [
      "epoch: 40 train: f1: 0.8270285714285714\n",
      "epoch: 40 validation: f1: 0.82335\n"
     ]
    },
    {
     "name": "stderr",
     "output_type": "stream",
     "text": [
      "100%|███████████████████████████████| 69/69 [00:00<00:00, 82.39it/s, loss=0.454]\n",
      "100%|███████████████████████████████████████████| 69/69 [00:01<00:00, 61.25it/s]\n",
      "100%|███████████████████████████████████████████| 20/20 [00:00<00:00, 42.59it/s]\n"
     ]
    },
    {
     "name": "stdout",
     "output_type": "stream",
     "text": [
      "epoch: 41 train: f1: 0.8270857142857143\n",
      "epoch: 41 validation: f1: 0.8233\n"
     ]
    },
    {
     "name": "stderr",
     "output_type": "stream",
     "text": [
      "100%|███████████████████████████████| 69/69 [00:00<00:00, 80.77it/s, loss=0.449]\n",
      "100%|███████████████████████████████████████████| 69/69 [00:01<00:00, 61.42it/s]\n",
      "100%|███████████████████████████████████████████| 20/20 [00:00<00:00, 41.98it/s]\n"
     ]
    },
    {
     "name": "stdout",
     "output_type": "stream",
     "text": [
      "epoch: 42 train: f1: 0.8271428571428572\n",
      "epoch: 42 validation: f1: 0.82335\n"
     ]
    },
    {
     "name": "stderr",
     "output_type": "stream",
     "text": [
      "100%|███████████████████████████████| 69/69 [00:00<00:00, 84.05it/s, loss=0.447]\n",
      "100%|███████████████████████████████████████████| 69/69 [00:00<00:00, 82.29it/s]\n",
      "100%|███████████████████████████████████████████| 20/20 [00:00<00:00, 27.95it/s]\n"
     ]
    },
    {
     "name": "stdout",
     "output_type": "stream",
     "text": [
      "epoch: 43 train: f1: 0.8271857142857143\n",
      "epoch: 43 validation: f1: 0.8233\n"
     ]
    },
    {
     "name": "stderr",
     "output_type": "stream",
     "text": [
      "100%|███████████████████████████████| 69/69 [00:00<00:00, 84.40it/s, loss=0.446]\n",
      "100%|███████████████████████████████████████████| 69/69 [00:00<00:00, 81.84it/s]\n",
      "100%|███████████████████████████████████████████| 20/20 [00:00<00:00, 27.06it/s]\n"
     ]
    },
    {
     "name": "stdout",
     "output_type": "stream",
     "text": [
      "epoch: 44 train: f1: 0.8272857142857143\n",
      "epoch: 44 validation: f1: 0.8233\n"
     ]
    },
    {
     "name": "stderr",
     "output_type": "stream",
     "text": [
      "100%|███████████████████████████████| 69/69 [00:00<00:00, 81.38it/s, loss=0.449]\n",
      "100%|███████████████████████████████████████████| 69/69 [00:00<00:00, 80.70it/s]\n",
      "100%|███████████████████████████████████████████| 20/20 [00:00<00:00, 42.47it/s]\n"
     ]
    },
    {
     "name": "stdout",
     "output_type": "stream",
     "text": [
      "epoch: 45 train: f1: 0.8273714285714285\n",
      "epoch: 45 validation: f1: 0.82335\n"
     ]
    },
    {
     "name": "stderr",
     "output_type": "stream",
     "text": [
      "100%|███████████████████████████████| 69/69 [00:00<00:00, 83.62it/s, loss=0.445]\n",
      "100%|███████████████████████████████████████████| 69/69 [00:01<00:00, 62.69it/s]\n",
      "100%|███████████████████████████████████████████| 20/20 [00:00<00:00, 42.29it/s]\n"
     ]
    },
    {
     "name": "stdout",
     "output_type": "stream",
     "text": [
      "epoch: 46 train: f1: 0.8274\n",
      "epoch: 46 validation: f1: 0.82355\n"
     ]
    },
    {
     "name": "stderr",
     "output_type": "stream",
     "text": [
      "100%|███████████████████████████████| 69/69 [00:00<00:00, 82.75it/s, loss=0.448]\n",
      "100%|███████████████████████████████████████████| 69/69 [00:01<00:00, 61.76it/s]\n",
      "100%|███████████████████████████████████████████| 20/20 [00:00<00:00, 41.88it/s]\n"
     ]
    },
    {
     "name": "stdout",
     "output_type": "stream",
     "text": [
      "epoch: 47 train: f1: 0.8276285714285714\n",
      "epoch: 47 validation: f1: 0.8237\n"
     ]
    },
    {
     "name": "stderr",
     "output_type": "stream",
     "text": [
      "100%|███████████████████████████████| 69/69 [00:00<00:00, 84.37it/s, loss=0.446]\n",
      "100%|███████████████████████████████████████████| 69/69 [00:01<00:00, 60.80it/s]\n",
      "100%|███████████████████████████████████████████| 20/20 [00:00<00:00, 42.48it/s]\n"
     ]
    },
    {
     "name": "stdout",
     "output_type": "stream",
     "text": [
      "epoch: 48 train: f1: 0.8278\n",
      "epoch: 48 validation: f1: 0.82405\n"
     ]
    },
    {
     "name": "stderr",
     "output_type": "stream",
     "text": [
      "100%|███████████████████████████████| 69/69 [00:00<00:00, 80.65it/s, loss=0.444]\n",
      "100%|███████████████████████████████████████████| 69/69 [00:01<00:00, 60.65it/s]\n",
      "100%|███████████████████████████████████████████| 20/20 [00:00<00:00, 42.31it/s]\n"
     ]
    },
    {
     "name": "stdout",
     "output_type": "stream",
     "text": [
      "epoch: 49 train: f1: 0.828\n",
      "epoch: 49 validation: f1: 0.8241\n"
     ]
    },
    {
     "name": "stderr",
     "output_type": "stream",
     "text": [
      "100%|███████████████████████████████| 69/69 [00:00<00:00, 84.38it/s, loss=0.439]\n",
      "100%|███████████████████████████████████████████| 69/69 [00:00<00:00, 79.96it/s]\n",
      "100%|███████████████████████████████████████████| 20/20 [00:00<00:00, 27.78it/s]"
     ]
    },
    {
     "name": "stdout",
     "output_type": "stream",
     "text": [
      "epoch: 50 train: f1: 0.8282285714285714\n",
      "epoch: 50 validation: f1: 0.82425\n"
     ]
    },
    {
     "name": "stderr",
     "output_type": "stream",
     "text": [
      "\n"
     ]
    }
   ],
   "source": [
    "\"\"\"\n",
    "Here we train and evaluate the model.\n",
    "\"\"\"\n",
    "\n",
    "metric_values = []\n",
    "loss_values = []\n",
    "for epoch_i in range(epochs):\n",
    "    loss = train(model, optimizer, train_data_loader, criterion, device, log_interval=10)\n",
    "    loss_values.append((epoch_i, loss))\n",
    "    metric_train = test(model, train_data_loader, device)\n",
    "    metric_valid = test(model, valid_data_loader, device)\n",
    "    print('epoch:', epoch_i + 1, 'train: f1:', metric_train)\n",
    "    print('epoch:', epoch_i + 1, 'validation: f1:', metric_valid)\n",
    "    \n",
    "    \n",
    "    metric_values.append((epoch_i, metric_train, metric_valid))"
   ]
  },
  {
   "cell_type": "code",
   "execution_count": null,
   "id": "63adf82b-37e2-4027-9fee-c154138a202a",
   "metadata": {},
   "outputs": [],
   "source": []
  },
  {
   "cell_type": "code",
   "execution_count": null,
   "id": "e3a28ca0-2094-45b9-94d3-68f9b3b3a4c3",
   "metadata": {},
   "outputs": [],
   "source": []
  }
 ],
 "metadata": {
  "kernelspec": {
   "display_name": "Python 3 (ipykernel)",
   "language": "python",
   "name": "python3"
  },
  "language_info": {
   "codemirror_mode": {
    "name": "ipython",
    "version": 3
   },
   "file_extension": ".py",
   "mimetype": "text/x-python",
   "name": "python",
   "nbconvert_exporter": "python",
   "pygments_lexer": "ipython3",
   "version": "3.10.16"
  }
 },
 "nbformat": 4,
 "nbformat_minor": 5
}
